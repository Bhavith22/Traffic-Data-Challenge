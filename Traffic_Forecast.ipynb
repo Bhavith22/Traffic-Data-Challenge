{
 "cells": [
  {
   "cell_type": "code",
   "execution_count": 2,
   "id": "ebff2eec",
   "metadata": {},
   "outputs": [
    {
     "data": {
      "text/plain": [
       "'C:\\\\Users\\\\simra'"
      ]
     },
     "execution_count": 2,
     "metadata": {},
     "output_type": "execute_result"
    }
   ],
   "source": [
    "pwd"
   ]
  },
  {
   "cell_type": "code",
   "execution_count": 4,
   "id": "09cb73d3",
   "metadata": {},
   "outputs": [
    {
     "data": {
      "text/plain": [
       "'C:\\\\Users\\\\simra'"
      ]
     },
     "execution_count": 4,
     "metadata": {},
     "output_type": "execute_result"
    }
   ],
   "source": [
    "import os\n",
    "os.getcwd()"
   ]
  },
  {
   "cell_type": "code",
   "execution_count": 6,
   "id": "a7d09ee2",
   "metadata": {},
   "outputs": [],
   "source": [
    "os.chdir(\"C:\\\\Users\\\\simra\\\\OneDrive\\\\Desktop\\\\Bhavith_Data_Analyst\\\\ML Projects\\\\BorderHacks\")"
   ]
  },
  {
   "cell_type": "code",
   "execution_count": 7,
   "id": "ede62723",
   "metadata": {},
   "outputs": [
    {
     "data": {
      "text/plain": [
       "'C:\\\\Users\\\\simra\\\\OneDrive\\\\Desktop\\\\Bhavith_Data_Analyst\\\\ML Projects\\\\BorderHacks'"
      ]
     },
     "execution_count": 7,
     "metadata": {},
     "output_type": "execute_result"
    }
   ],
   "source": [
    "pwd"
   ]
  },
  {
   "cell_type": "code",
   "execution_count": 9,
   "id": "18a0da26",
   "metadata": {},
   "outputs": [
    {
     "name": "stdout",
     "output_type": "stream",
     "text": [
      "Collecting xgboost\n",
      "  Downloading xgboost-1.7.3-py3-none-win_amd64.whl (89.1 MB)\n",
      "     --------------------------------------- 89.1/89.1 MB 11.3 MB/s eta 0:00:00\n",
      "Requirement already satisfied: numpy in c:\\users\\simra\\anaconda3\\lib\\site-packages (from xgboost) (1.21.5)\n",
      "Requirement already satisfied: scipy in c:\\users\\simra\\anaconda3\\lib\\site-packages (from xgboost) (1.9.1)\n",
      "Installing collected packages: xgboost\n",
      "Successfully installed xgboost-1.7.3\n"
     ]
    }
   ],
   "source": [
    "! pip install xgboost"
   ]
  },
  {
   "cell_type": "markdown",
   "id": "c528f3bb",
   "metadata": {},
   "source": [
    "# Importing Required Packages"
   ]
  },
  {
   "cell_type": "code",
   "execution_count": 10,
   "id": "4a107966",
   "metadata": {},
   "outputs": [],
   "source": [
    "import pandas as pd\n",
    "import warnings\n",
    "warnings.filterwarnings('ignore')\n",
    "import requests as re\n",
    "import json\n",
    "from tqdm import tqdm\n",
    "from datetime import date,timedelta\n",
    "from xgboost import XGBRegressor\n",
    "from sklearn.ensemble import RandomForestRegressor\n",
    "from sklearn.metrics import r2_score\n",
    "from sklearn.model_selection import RandomizedSearchCV,GridSearchCV\n",
    "import numpy as np\n",
    "import pickle\n",
    "import matplotlib.pyplot as plt"
   ]
  },
  {
   "cell_type": "markdown",
   "id": "79270016",
   "metadata": {},
   "source": [
    "# Data extraction and data exploration"
   ]
  },
  {
   "cell_type": "code",
   "execution_count": 11,
   "id": "9b0e1cea",
   "metadata": {},
   "outputs": [],
   "source": [
    "\n",
    "# start and end data of data extraction\n",
    "start = date(2020,8,1) # start date \n",
    "end = date(2021,9,24) # end date"
   ]
  },
  {
   "cell_type": "code",
   "execution_count": 12,
   "id": "b4f199fb",
   "metadata": {},
   "outputs": [
    {
     "name": "stderr",
     "output_type": "stream",
     "text": [
      "DataLoading: 100%|███████████████████████████████████████████████████████████████████| 420/420 [27:51<00:00,  3.98s/it]\n"
     ]
    }
   ],
   "source": [
    "mob_data = pd.DataFrame()\n",
    "# going through all the data\n",
    "for i in tqdm(range((end - start).days+1),desc = 'DataLoading'):\n",
    "    date = start + timedelta(i)\n",
    "    # going through all the intersection\n",
    "    for j in range(1,4):\n",
    "        params = {\n",
    "        \"date\": date,\n",
    "        \"intersectionid\": j\n",
    "            }\n",
    "        # sending requests\n",
    "        res = re.get('https://opendata.citywindsor.ca/api/traffic',params = params,verify=False)\n",
    "        # converting the json data to dataframe\n",
    "        df = pd.json_normalize(res.json(),record_path=['traffic'],meta=['intersectionDescription'])\n",
    "        frames = [mob_data,df]\n",
    "        mob_data = pd.concat(frames)     "
   ]
  },
  {
   "cell_type": "code",
   "execution_count": 13,
   "id": "15d8abf1",
   "metadata": {},
   "outputs": [],
   "source": [
    "# extracting date and time from timestamp\n",
    "mob_data['day'] = pd.to_datetime(mob_data.timeStamp).dt.day\n",
    "mob_data['month'] = pd.to_datetime(mob_data.timeStamp).dt.month\n",
    "mob_data['year'] = pd.to_datetime(mob_data.timeStamp).dt.year\n",
    "mob_data['hour'] = pd.to_datetime(mob_data.timeStamp).dt.hour\n",
    "mob_data['day of the week'] = pd.to_datetime(mob_data.timeStamp).dt.dayofweek\n",
    "\n",
    "# Selecting only required columns\n",
    "mob_data = mob_data[['intersectionDescription','year','month','day','hour','day of the week','qty']]"
   ]
  },
  {
   "cell_type": "code",
   "execution_count": 15,
   "id": "e88505da",
   "metadata": {},
   "outputs": [],
   "source": [
    "\n",
    "mob_data.to_csv('mob_data.csv',index = False)"
   ]
  },
  {
   "cell_type": "code",
   "execution_count": 16,
   "id": "c1c02a73",
   "metadata": {},
   "outputs": [
    {
     "data": {
      "text/html": [
       "<div>\n",
       "<style scoped>\n",
       "    .dataframe tbody tr th:only-of-type {\n",
       "        vertical-align: middle;\n",
       "    }\n",
       "\n",
       "    .dataframe tbody tr th {\n",
       "        vertical-align: top;\n",
       "    }\n",
       "\n",
       "    .dataframe thead th {\n",
       "        text-align: right;\n",
       "    }\n",
       "</style>\n",
       "<table border=\"1\" class=\"dataframe\">\n",
       "  <thead>\n",
       "    <tr style=\"text-align: right;\">\n",
       "      <th></th>\n",
       "      <th>intersectionDescription</th>\n",
       "      <th>year</th>\n",
       "      <th>month</th>\n",
       "      <th>day</th>\n",
       "      <th>hour</th>\n",
       "      <th>day of the week</th>\n",
       "      <th>qty</th>\n",
       "    </tr>\n",
       "  </thead>\n",
       "  <tbody>\n",
       "    <tr>\n",
       "      <th>0</th>\n",
       "      <td>Dorchester Road and Huron Church Road</td>\n",
       "      <td>2020</td>\n",
       "      <td>8</td>\n",
       "      <td>1</td>\n",
       "      <td>0</td>\n",
       "      <td>5</td>\n",
       "      <td>2.0</td>\n",
       "    </tr>\n",
       "    <tr>\n",
       "      <th>1</th>\n",
       "      <td>Dorchester Road and Huron Church Road</td>\n",
       "      <td>2020</td>\n",
       "      <td>8</td>\n",
       "      <td>1</td>\n",
       "      <td>0</td>\n",
       "      <td>5</td>\n",
       "      <td>2.0</td>\n",
       "    </tr>\n",
       "    <tr>\n",
       "      <th>2</th>\n",
       "      <td>Dorchester Road and Huron Church Road</td>\n",
       "      <td>2020</td>\n",
       "      <td>8</td>\n",
       "      <td>1</td>\n",
       "      <td>0</td>\n",
       "      <td>5</td>\n",
       "      <td>4.0</td>\n",
       "    </tr>\n",
       "    <tr>\n",
       "      <th>3</th>\n",
       "      <td>Dorchester Road and Huron Church Road</td>\n",
       "      <td>2020</td>\n",
       "      <td>8</td>\n",
       "      <td>1</td>\n",
       "      <td>0</td>\n",
       "      <td>5</td>\n",
       "      <td>2.0</td>\n",
       "    </tr>\n",
       "    <tr>\n",
       "      <th>4</th>\n",
       "      <td>Dorchester Road and Huron Church Road</td>\n",
       "      <td>2020</td>\n",
       "      <td>8</td>\n",
       "      <td>1</td>\n",
       "      <td>0</td>\n",
       "      <td>5</td>\n",
       "      <td>3.0</td>\n",
       "    </tr>\n",
       "  </tbody>\n",
       "</table>\n",
       "</div>"
      ],
      "text/plain": [
       "                 intersectionDescription  year  month  day  hour  \\\n",
       "0  Dorchester Road and Huron Church Road  2020      8    1     0   \n",
       "1  Dorchester Road and Huron Church Road  2020      8    1     0   \n",
       "2  Dorchester Road and Huron Church Road  2020      8    1     0   \n",
       "3  Dorchester Road and Huron Church Road  2020      8    1     0   \n",
       "4  Dorchester Road and Huron Church Road  2020      8    1     0   \n",
       "\n",
       "   day of the week  qty  \n",
       "0                5  2.0  \n",
       "1                5  2.0  \n",
       "2                5  4.0  \n",
       "3                5  2.0  \n",
       "4                5  3.0  "
      ]
     },
     "execution_count": 16,
     "metadata": {},
     "output_type": "execute_result"
    }
   ],
   "source": [
    "mob_data.head()\n"
   ]
  },
  {
   "cell_type": "code",
   "execution_count": 17,
   "id": "74938788",
   "metadata": {},
   "outputs": [],
   "source": [
    "# making different dataframes for all three intersections\n",
    "totten_street = mob_data[mob_data['intersectionDescription'] == 'Totten Street and Huron Church Road']\n",
    "dorchester_road = mob_data[mob_data['intersectionDescription'] == 'Dorchester Road and Huron Church Road']\n",
    "malden_road = mob_data[mob_data['intersectionDescription'] == 'Malden Road and Huron Church Road']"
   ]
  },
  {
   "cell_type": "code",
   "execution_count": 18,
   "id": "8f2637e0",
   "metadata": {},
   "outputs": [],
   "source": [
    "# making the required changes in the data\n",
    "totten_street_new = totten_street.groupby(['year','month','day of the week','day','hour'],as_index = False)['qty'].sum()\n",
    "dorchester_road_new = dorchester_road.groupby(['year','month','day of the week','day','hour'],as_index = False)['qty'].sum()\n",
    "malden_road_new = malden_road.groupby(['year','month','day of the week','day','hour'],as_index = False)['qty'].sum()"
   ]
  },
  {
   "cell_type": "code",
   "execution_count": 19,
   "id": "1adc4944",
   "metadata": {},
   "outputs": [],
   "source": [
    "totten_street_new.to_csv('totten.csv',index = False)\n",
    "dorchester_road_new.to_csv('dorchester.csv',index = False)\n",
    "malden_road_new.to_csv('malden.csv',index = False)"
   ]
  },
  {
   "cell_type": "code",
   "execution_count": 20,
   "id": "34628cf6",
   "metadata": {},
   "outputs": [],
   "source": [
    "# extracting the train and test data for all the three given intersection\n",
    "# we have used the september 2021 for testing data for all three intersection\n",
    "\n",
    "X_test_totten = totten_street_new[(totten_street_new['month'] == 9) & (totten_street_new['year'] == 2021)].drop('qty',axis = 1)\n",
    "y_test_totten = totten_street_new[(totten_street_new['month'] == 9) & (totten_street_new['year'] == 2021)]['qty']\n",
    "\n",
    "X_train_totten = totten_street_new[(totten_street_new['month'] < 9) | (totten_street_new['year'] == 2020) ].drop('qty',axis = 1)\n",
    "y_train_totten = totten_street_new[(totten_street_new['month'] < 9) | (totten_street_new['year'] == 2020)]['qty']\n",
    "\n",
    "\n",
    "X_test_dorchester = dorchester_road_new[(dorchester_road_new['month'] == 9) & (dorchester_road_new['year'] == 2021)].drop('qty',axis = 1)\n",
    "y_test_dorchester = dorchester_road_new[(dorchester_road_new['month'] == 9) & (dorchester_road_new['year'] == 2021)]['qty']\n",
    "\n",
    "X_train_dorchester = dorchester_road_new[(dorchester_road_new['month'] < 9) | (dorchester_road_new['year'] == 2020) ].drop('qty',axis = 1)\n",
    "y_train_dorchester = dorchester_road_new[(dorchester_road_new['month'] < 9) | (dorchester_road_new['year'] == 2020)]['qty']\n",
    "\n",
    "\n",
    "X_test_malden = malden_road_new[(malden_road_new['month'] == 9) & (malden_road_new['year'] == 2021)].drop('qty',axis = 1)\n",
    "y_test_malden = malden_road_new[(malden_road_new['month'] == 9) & (malden_road_new['year'] == 2021)]['qty']\n",
    "\n",
    "X_train_malden = malden_road_new[(malden_road_new['month'] < 9) | (malden_road_new['year'] == 2020) ].drop('qty',axis = 1)\n",
    "y_train_malden = malden_road_new[(malden_road_new['month'] < 9) | (malden_road_new['year'] == 2020)]['qty']\n",
    "     "
   ]
  },
  {
   "cell_type": "markdown",
   "id": "5d2f36c4",
   "metadata": {},
   "source": [
    "# XGBoost Regressor"
   ]
  },
  {
   "cell_type": "code",
   "execution_count": 21,
   "id": "c3bb09ee",
   "metadata": {},
   "outputs": [
    {
     "data": {
      "text/plain": [
       "{'reg': 'squarederror',\n",
       " 'max_depth': [2, 4, 6, 8, 10],\n",
       " 'min_child_weight': [2, 4, 6, 8, 10],\n",
       " 'gamma': [0.0, 0.1, 0.2, 0.30000000000000004, 0.4, 0.5],\n",
       " 'subsample': [0.6, 0.65, 0.7, 0.75, 0.8, 0.85, 0.9, 0.95, 1.0],\n",
       " 'colsample_bytree': [0.6, 0.65, 0.7, 0.75, 0.8, 0.85, 0.9, 0.95, 1.0],\n",
       " 'reg_lambda': [0.01, 0.1, 1.0, 10, 20],\n",
       " 'learning_rate': [0.05, 0.1, 0.15, 0.2, 0.25, 0.3]}"
      ]
     },
     "execution_count": 21,
     "metadata": {},
     "output_type": "execute_result"
    }
   ],
   "source": [
    "# selecting parameters to tune the xgboost regressor\n",
    "xgb_params = {\n",
    "    'reg':'squarederror',\n",
    "    'max_depth': [int(i) for i in np.linspace(2,10,5)],\n",
    "    'min_child_weight':[int(i) for i in np.linspace(2,10,5)],\n",
    "    'gamma' : [i for i in np.linspace(0.0,0.5,6)],\n",
    "    'subsample' : [ i for i in np.linspace(0.6,1.0,9)],\n",
    "    'colsample_bytree' : [i for i in np.linspace(0.6,1.0,9)],\n",
    "    'reg_lambda' : [0.01,0.1,1.0,10,20],\n",
    "    'learning_rate' : [0.05,0.1,0.15,0.2,0.25,0.3]\n",
    "}\n",
    "xgb_params\n",
    "     "
   ]
  },
  {
   "cell_type": "code",
   "execution_count": 22,
   "id": "abd858da",
   "metadata": {},
   "outputs": [],
   "source": [
    "lst = ['totten','dorchester','malden'] # list of intersection "
   ]
  },
  {
   "cell_type": "code",
   "execution_count": 24,
   "id": "46698d26",
   "metadata": {},
   "outputs": [
    {
     "name": "stdout",
     "output_type": "stream",
     "text": [
      "For totten intersection\n",
      "\n",
      "Fitting 5 folds for each of 10 candidates, totalling 50 fits\n",
      "[20:47:08] WARNING: C:/buildkite-agent/builds/buildkite-windows-cpu-autoscaling-group-i-08de971ced8a8cdc6-1/xgboost/xgboost-ci-windows/src/learner.cc:767: \n",
      "Parameters: { \"reg\" } are not used.\n",
      "\n",
      "\n",
      "For dorchester intersection\n",
      "\n",
      "Fitting 5 folds for each of 10 candidates, totalling 50 fits\n",
      "[20:47:21] WARNING: C:/buildkite-agent/builds/buildkite-windows-cpu-autoscaling-group-i-08de971ced8a8cdc6-1/xgboost/xgboost-ci-windows/src/learner.cc:767: \n",
      "Parameters: { \"reg\" } are not used.\n",
      "\n",
      "\n",
      "For malden intersection\n",
      "\n",
      "Fitting 5 folds for each of 10 candidates, totalling 50 fits\n",
      "[20:47:35] WARNING: C:/buildkite-agent/builds/buildkite-windows-cpu-autoscaling-group-i-08de971ced8a8cdc6-1/xgboost/xgboost-ci-windows/src/learner.cc:767: \n",
      "Parameters: { \"reg\" } are not used.\n",
      "\n",
      "\n"
     ]
    }
   ],
   "source": [
    "# creating and saving the models for all the three intersection\n",
    "for i in lst:\n",
    "  xgb = XGBRegressor()\n",
    "  print(f'For {i} intersection')\n",
    "  print('')\n",
    "  xgb_hptune = RandomizedSearchCV(xgb,xgb_params,cv=5,random_state = 0,n_iter = 10,n_jobs = -1,verbose = 2)\n",
    "  X_train = locals()['X_train_' + i]\n",
    "  y_train = locals()['y_train_' + i]\n",
    "  xgb_hptune.fit(X_train,y_train)\n",
    "  pickle.dump(xgb_hptune.best_estimator_,open(i+'_1.pkl','wb'))\n",
    "  print('')"
   ]
  },
  {
   "cell_type": "markdown",
   "id": "52041468",
   "metadata": {},
   "source": [
    "RandomForest Regressor\n"
   ]
  },
  {
   "cell_type": "code",
   "execution_count": 25,
   "id": "ea92adb3",
   "metadata": {},
   "outputs": [
    {
     "name": "stdout",
     "output_type": "stream",
     "text": [
      "For totten initersection\n",
      "\n",
      "Fitting 5 folds for each of 10 candidates, totalling 50 fits\n",
      "Fitting 5 folds for each of 54 candidates, totalling 270 fits\n",
      "\n",
      "For dorchester initersection\n",
      "\n",
      "Fitting 5 folds for each of 10 candidates, totalling 50 fits\n",
      "Fitting 5 folds for each of 54 candidates, totalling 270 fits\n",
      "\n",
      "For malden initersection\n",
      "\n",
      "Fitting 5 folds for each of 10 candidates, totalling 50 fits\n",
      "Fitting 5 folds for each of 54 candidates, totalling 270 fits\n",
      "\n"
     ]
    }
   ],
   "source": [
    "for i in lst:\n",
    "\n",
    "  X_train = locals()['X_train_' + i]\n",
    "  y_train = locals()['y_train_' + i]\n",
    "\n",
    "  # Number of trees in random forest\n",
    "  n_estimators = [int(x) for x in np.linspace(start = 50, stop = 250, num = 5)]\n",
    "  # Number of features to consider at every split\n",
    "  max_features = ['auto', 'sqrt','log2']\n",
    "  # Maximum number of levels in tree\n",
    "  max_depth = [int(x) for x in np.linspace(2, 10, num = 5)]\n",
    "  max_depth.append(None)\n",
    "  # Minimum number of samples required to split a node\n",
    "  min_samples_split = [int(x) for x in np.linspace(2,20,5)]\n",
    "  # Minimum number of samples required at each leaf node\n",
    "  min_samples_leaf = [int(x) for x in np.linspace(2,10,5)]\n",
    "  # Method of selecting samples for training each tree\n",
    "  bootstrap = [True]\n",
    "\n",
    "  # Create the random grid\n",
    "  random_grid = {'n_estimators': n_estimators,\n",
    "                'max_features': max_features,\n",
    "                'max_depth': max_depth,\n",
    "                'min_samples_split': min_samples_split,\n",
    "                'min_samples_leaf': min_samples_leaf,\n",
    "                'bootstrap': bootstrap}\n",
    "\n",
    "  print(f'For {i} initersection')\n",
    "  print('')\n",
    "\n",
    "  rf = RandomForestRegressor()\n",
    "  rf_random_search = RandomizedSearchCV(estimator = rf, param_distributions = random_grid, n_iter = 10, cv = 5, verbose=2, random_state=9, n_jobs = -1)\n",
    "  rf_random_search.fit(X_train,y_train)\n",
    "\n",
    "\n",
    "  # for fine tuning I have used GridsearchCV after RandomizedSearchCV\n",
    "  grid = {\n",
    "      'n_estimators' : [rf_random_search.best_params_['n_estimators'],rf_random_search.best_params_['n_estimators']+50,rf_random_search.best_params_['n_estimators']+100],\n",
    "      'min_samples_split' : [rf_random_search.best_params_['min_samples_split'],rf_random_search.best_params_['min_samples_split']-1,rf_random_search.best_params_['min_samples_split']+1],\n",
    "      'min_samples_leaf' : [rf_random_search.best_params_['min_samples_leaf'],rf_random_search.best_params_['min_samples_leaf']-1,rf_random_search.best_params_['min_samples_leaf']+1],\n",
    "      'max_depth' : [rf_random_search.best_params_['max_depth'],None],\n",
    "      'max_features' : [rf_random_search.best_params_['max_features']],\n",
    "      'bootstrap' : [rf_random_search.best_params_['bootstrap']]\n",
    "  }\n",
    "  rf_clf = RandomForestRegressor()\n",
    "  rf_grid_search = GridSearchCV(rf_clf,grid,n_jobs = -1,cv=5,verbose = 2)\n",
    "  rf_grid_search.fit(X_train,y_train)\n",
    "\n",
    "  pickle.dump(rf_grid_search.best_estimator_,open(i+'_2.pkl','wb'))\n",
    "  print('')\n"
   ]
  },
  {
   "cell_type": "markdown",
   "id": "5ac34580",
   "metadata": {},
   "source": [
    "# Checking the R2 score after averaging the prediction of both the models"
   ]
  },
  {
   "cell_type": "markdown",
   "id": "2ae7eced",
   "metadata": {},
   "source": [
    "# Dorchester Road and Huron Church Road"
   ]
  },
  {
   "cell_type": "code",
   "execution_count": 26,
   "id": "6e4b5598",
   "metadata": {},
   "outputs": [],
   "source": [
    "model_1 = pickle.load(open('dorchester_1.pkl','rb'))\n",
    "model_2 = pickle.load(open('dorchester_2.pkl','rb'))\n",
    "     "
   ]
  },
  {
   "cell_type": "code",
   "execution_count": 27,
   "id": "a1387fde",
   "metadata": {},
   "outputs": [
    {
     "data": {
      "text/plain": [
       "0.9644419533035246"
      ]
     },
     "execution_count": 27,
     "metadata": {},
     "output_type": "execute_result"
    }
   ],
   "source": [
    "\n",
    "y_pred_train = (model_1.predict(X_train_dorchester) + model_2.predict(X_train_dorchester))/2\n",
    "r2_score(y_train_dorchester,y_pred_train)"
   ]
  },
  {
   "cell_type": "markdown",
   "id": "02274cb6",
   "metadata": {},
   "source": [
    "# Totten Street and Huron Church Road\n"
   ]
  },
  {
   "cell_type": "code",
   "execution_count": 28,
   "id": "89eeded6",
   "metadata": {},
   "outputs": [],
   "source": [
    "\n",
    "model_1 = pickle.load(open('totten_1.pkl','rb'))\n",
    "model_2 = pickle.load(open('totten_2.pkl','rb'))"
   ]
  },
  {
   "cell_type": "code",
   "execution_count": 29,
   "id": "0d6bedd4",
   "metadata": {},
   "outputs": [
    {
     "data": {
      "text/plain": [
       "0.9566187345536913"
      ]
     },
     "execution_count": 29,
     "metadata": {},
     "output_type": "execute_result"
    }
   ],
   "source": [
    "y_pred_train = (model_1.predict(X_train_totten) + model_2.predict(X_train_totten))/2\n",
    "r2_score(y_train_totten,y_pred_train)"
   ]
  },
  {
   "cell_type": "code",
   "execution_count": 30,
   "id": "b52ee2ac",
   "metadata": {},
   "outputs": [
    {
     "data": {
      "text/plain": [
       "0.8729171631074001"
      ]
     },
     "execution_count": 30,
     "metadata": {},
     "output_type": "execute_result"
    }
   ],
   "source": [
    "y_pred_test = (model_1.predict(X_test_totten) + model_2.predict(X_test_totten))/2\n",
    "r2_score(y_test_totten,y_pred_test)"
   ]
  },
  {
   "cell_type": "markdown",
   "id": "f768b9a7",
   "metadata": {},
   "source": [
    "# Malden Road and Huron Church Road\n"
   ]
  },
  {
   "cell_type": "code",
   "execution_count": 31,
   "id": "090b953f",
   "metadata": {},
   "outputs": [],
   "source": [
    "model_1 = pickle.load(open('malden_1.pkl','rb'))\n",
    "model_2 = pickle.load(open('malden_2.pkl','rb'))"
   ]
  },
  {
   "cell_type": "code",
   "execution_count": 32,
   "id": "91223453",
   "metadata": {},
   "outputs": [
    {
     "data": {
      "text/plain": [
       "0.9541393058473528"
      ]
     },
     "execution_count": 32,
     "metadata": {},
     "output_type": "execute_result"
    }
   ],
   "source": [
    "y_pred_train = (model_1.predict(X_train_malden) + model_2.predict(X_train_malden))/2\n",
    "r2_score(y_train_malden,y_pred_train)\n",
    "     "
   ]
  },
  {
   "cell_type": "code",
   "execution_count": 33,
   "id": "c019a3d3",
   "metadata": {},
   "outputs": [
    {
     "data": {
      "text/plain": [
       "0.8912960892388941"
      ]
     },
     "execution_count": 33,
     "metadata": {},
     "output_type": "execute_result"
    }
   ],
   "source": [
    "y_pred_test = (model_1.predict(X_test_malden) + model_2.predict(X_test_malden))/2\n",
    "r2_score(y_test_dorchester,y_pred_test)"
   ]
  },
  {
   "cell_type": "code",
   "execution_count": null,
   "id": "b8d3a537",
   "metadata": {},
   "outputs": [],
   "source": []
  },
  {
   "cell_type": "code",
   "execution_count": null,
   "id": "ccee401b",
   "metadata": {},
   "outputs": [],
   "source": []
  }
 ],
 "metadata": {
  "kernelspec": {
   "display_name": "Python 3 (ipykernel)",
   "language": "python",
   "name": "python3"
  },
  "language_info": {
   "codemirror_mode": {
    "name": "ipython",
    "version": 3
   },
   "file_extension": ".py",
   "mimetype": "text/x-python",
   "name": "python",
   "nbconvert_exporter": "python",
   "pygments_lexer": "ipython3",
   "version": "3.9.13"
  }
 },
 "nbformat": 4,
 "nbformat_minor": 5
}
